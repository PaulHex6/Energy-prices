{
  "nbformat": 4,
  "nbformat_minor": 0,
  "metadata": {
    "colab": {
      "provenance": [],
      "authorship_tag": "ABX9TyMRv/LSJp9pKj3UQYgaHkBH"
    },
    "kernelspec": {
      "name": "python3",
      "display_name": "Python 3"
    },
    "language_info": {
      "name": "python"
    }
  },
  "cells": [
    {
      "cell_type": "code",
      "execution_count": 5,
      "metadata": {
        "colab": {
          "base_uri": "https://localhost:8080/"
        },
        "id": "d9c7B5v0jM8Y",
        "outputId": "06d24c9e-8726-4acb-aa13-22e366065efc"
      },
      "outputs": [
        {
          "output_type": "stream",
          "name": "stdout",
          "text": [
            "Dane zapisane w pliku crb-rozl_data_2024-06-14_2024-07-21.xlsx\n"
          ]
        }
      ],
      "source": [
        "import requests\n",
        "import pandas as pd\n",
        "from datetime import datetime, timedelta\n",
        "\n",
        "# Funkcja do pobierania danych z API dla pojedynczej daty\n",
        "def fetch_data_for_date(date):\n",
        "  # zmień 'crb-rozl' na dowolny inny raport\n",
        "    url = \"https://api.raporty.pse.pl/api/crb-rozl\"\n",
        "    params = {\n",
        "        \"$filter\": f\"business_date eq '{date}'\"\n",
        "    }\n",
        "    response = requests.get(url, params=params)\n",
        "    if response.status_code == 200:\n",
        "        return response.json()['value']\n",
        "    else:\n",
        "        print(f\"Błąd: {response.status_code} dla daty {date}\")\n",
        "        return []\n",
        "\n",
        "# Funkcja do pobierania danych dla zakresu dat\n",
        "def fetch_data_for_date_range(start_date, end_date):\n",
        "    data = []\n",
        "    current_date = start_date\n",
        "    while current_date <= end_date:\n",
        "        data.extend(fetch_data_for_date(current_date.strftime('%Y-%m-%d')))\n",
        "        current_date += timedelta(days=1)\n",
        "    return data\n",
        "\n",
        "# Definiowanie zakresu dat\n",
        "start_date_str = \"2024-06-14\"\n",
        "end_date_str = \"2024-07-21\"\n",
        "start_date = datetime.strptime(start_date_str, '%Y-%m-%d')\n",
        "end_date = datetime.strptime(end_date_str, '%Y-%m-%d')\n",
        "\n",
        "# Pobieranie danych\n",
        "data = fetch_data_for_date_range(start_date, end_date)\n",
        "\n",
        "# Konwersja danych do DataFrame\n",
        "df = pd.DataFrame(data)\n",
        "\n",
        "# Zapisywanie danych do pliku Excel\n",
        "output_file = f\"crb-rozl_data_{start_date_str}_{end_date_str}.xlsx\"\n",
        "df.to_excel(output_file, index=False)\n",
        "print(f\"Dane zapisane w pliku {output_file}\")\n"
      ]
    }
  ]
}